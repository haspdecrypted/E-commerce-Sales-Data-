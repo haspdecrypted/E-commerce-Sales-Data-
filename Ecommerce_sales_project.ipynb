{
  "nbformat": 4,
  "nbformat_minor": 0,
  "metadata": {
    "colab": {
      "provenance": [],
      "authorship_tag": "ABX9TyPApHvW4+RmbkgwfoofFjJa",
      "include_colab_link": true
    },
    "kernelspec": {
      "name": "python3",
      "display_name": "Python 3"
    },
    "language_info": {
      "name": "python"
    }
  },
  "cells": [
    {
      "cell_type": "markdown",
      "metadata": {
        "id": "view-in-github",
        "colab_type": "text"
      },
      "source": [
        "<a href=\"https://colab.research.google.com/github/haspdecrypted/E-commerce-Sales-Data-/blob/main/Ecommerce_sales_project.ipynb\" target=\"_parent\"><img src=\"https://colab.research.google.com/assets/colab-badge.svg\" alt=\"Open In Colab\"/></a>"
      ]
    },
    {
      "cell_type": "markdown",
      "source": [
        "##Download Java\n"
      ],
      "metadata": {
        "id": "bnJdmdgsip1r"
      }
    },
    {
      "cell_type": "code",
      "source": [
        "!apt-get install openjdk-8-jdk-headless -qq > /dev/null"
      ],
      "metadata": {
        "id": "KgBjl3G3ZChC"
      },
      "execution_count": 7,
      "outputs": []
    },
    {
      "cell_type": "markdown",
      "source": [
        "##Download and Unzip hadoop"
      ],
      "metadata": {
        "id": "uU6n9Tvgi40H"
      }
    },
    {
      "cell_type": "code",
      "source": [
        "!wget -q https://downloads.apache.org/spark/spark-3.2.4/spark-3.2.4-bin-hadoop2.7.tgz\n",
        "!tar xf spark-3.2.4-bin-hadoop2.7.tgz"
      ],
      "metadata": {
        "id": "RkXKPKUNZDV5"
      },
      "execution_count": 8,
      "outputs": []
    },
    {
      "cell_type": "markdown",
      "source": [
        "##Adding env path\n",
        "This is required to access the libraries locally"
      ],
      "metadata": {
        "id": "91nzAAEijLvA"
      }
    },
    {
      "cell_type": "code",
      "source": [
        "import os\n",
        "os.environ[\"JAVA_HOME\"] = \"/usr/lib/jvm/java-8-openjdk-amd64\"\n",
        "os.environ[\"SPARK_HOME\"] = \"/content/spark-3.2.4-bin-hadoop2.7\""
      ],
      "metadata": {
        "id": "vkF8i9QWZGbR"
      },
      "execution_count": 12,
      "outputs": []
    },
    {
      "cell_type": "markdown",
      "source": [
        "##Install findspark\n",
        "This is required to locate spark locally"
      ],
      "metadata": {
        "id": "jh4fUiw2jTuu"
      }
    },
    {
      "cell_type": "code",
      "source": [
        "!pip install -q findspark\n",
        "import findspark\n",
        "findspark.init()"
      ],
      "metadata": {
        "id": "WVbF58QrZKf7"
      },
      "execution_count": 13,
      "outputs": []
    },
    {
      "cell_type": "markdown",
      "source": [
        "##Setting up Spark session and port"
      ],
      "metadata": {
        "id": "DoHVVQN6lAm-"
      }
    },
    {
      "cell_type": "code",
      "source": [
        "from pyspark.sql import SparkSession\n",
        "spark = SparkSession.builder\\\n",
        "        .master(\"local\")\\\n",
        "        .appName(\"Colab\")\\\n",
        "        .config('spark.ui.port', '4050')\\\n",
        "        .getOrCreate()"
      ],
      "metadata": {
        "id": "s7VNfn5eaZXV"
      },
      "execution_count": 14,
      "outputs": []
    },
    {
      "cell_type": "markdown",
      "source": [
        "##Accessing file"
      ],
      "metadata": {
        "id": "nRUIJ3JGlHAE"
      }
    },
    {
      "cell_type": "code",
      "source": [
        "!wget --continue https://raw.githubusercontent.com/haspdecrypted/E-commerce-Sales-Data-/main/data%20file/E_comm.json -O /tmp/E_comm.json"
      ],
      "metadata": {
        "colab": {
          "base_uri": "https://localhost:8080/"
        },
        "id": "Q_0spfbCamme",
        "outputId": "9e628dd2-6a90-4a8a-b84c-56db8bba9ff9"
      },
      "execution_count": 18,
      "outputs": [
        {
          "output_type": "stream",
          "name": "stdout",
          "text": [
            "--2023-09-10 18:57:10--  https://raw.githubusercontent.com/haspdecrypted/E-commerce-Sales-Data-/main/data%20file/E_comm.json\n",
            "Resolving raw.githubusercontent.com (raw.githubusercontent.com)... 185.199.108.133, 185.199.109.133, 185.199.110.133, ...\n",
            "Connecting to raw.githubusercontent.com (raw.githubusercontent.com)|185.199.108.133|:443... connected.\n",
            "HTTP request sent, awaiting response... 200 OK\n",
            "Length: 356169 (348K) [text/plain]\n",
            "Saving to: ‘/tmp/E_comm.json’\n",
            "\n",
            "\r/tmp/E_comm.json      0%[                    ]       0  --.-KB/s               \r/tmp/E_comm.json    100%[===================>] 347.82K  --.-KB/s    in 0.01s   \n",
            "\n",
            "2023-09-10 18:57:10 (27.1 MB/s) - ‘/tmp/E_comm.json’ saved [356169/356169]\n",
            "\n"
          ]
        }
      ]
    },
    {
      "cell_type": "markdown",
      "source": [
        "##Reading Multiline Json File"
      ],
      "metadata": {
        "id": "DGkR9GSjlKP4"
      }
    },
    {
      "cell_type": "code",
      "source": [
        "\n",
        "# Read multiline json file\n",
        "multiline_df = spark.read.option(\"multiline\",\"true\") \\\n",
        "      .json(\"/tmp/E_comm.json\")\n",
        "multiline_df.show()\n"
      ],
      "metadata": {
        "colab": {
          "base_uri": "https://localhost:8080/"
        },
        "id": "iEg-NDEucFZF",
        "outputId": "244fc957-1f42-424b-87c1-a467905edd9e"
      },
      "execution_count": 23,
      "outputs": [
        {
          "output_type": "stream",
          "name": "stdout",
          "text": [
            "+------------+--------------+-------+---+--------------------+----+----------------+-----------+-----+--------+----------+----------+----------+\n",
            "|amount_spent|       country|cust_id|day|         description|hour|    invoice_date|invoice_num|month|quantity|stock_code|unit_price|year_month|\n",
            "+------------+--------------+-------+---+--------------------+----+----------------+-----------+-----+--------+----------+----------+----------+\n",
            "|        15.3|United Kingdom|  17850|  3|white hanging hea...|   8|01-12-2010 08:26|     536365|   12|       6|    85123A|      2.55|    201012|\n",
            "|       20.34|United Kingdom|  17850|  3| white metal lantern|   8|01-12-2010 08:26|     536365|   12|       6|     71053|      3.39|    201012|\n",
            "|        22.0|United Kingdom|  17850|  3|cream cupid heart...|   8|01-12-2010 08:26|     536365|   12|       8|    84406B|      2.75|    201012|\n",
            "|       20.34|United Kingdom|  17850|  3|knitted union fla...|   8|01-12-2010 08:26|     536365|   12|       6|    84029G|      3.39|    201012|\n",
            "|       20.34|United Kingdom|  17850|  3|red woolly hottie...|   8|01-12-2010 08:26|     536365|   12|       6|    84029E|      3.39|    201012|\n",
            "|        15.3|United Kingdom|  17850|  3|set 7 babushka ne...|   8|01-12-2010 08:26|     536365|   12|       2|     22752|      7.65|    201012|\n",
            "|        25.5|United Kingdom|  17850|  3|glass star froste...|   8|01-12-2010 08:26|     536365|   12|       6|     21730|      4.25|    201012|\n",
            "|        11.1|United Kingdom|  17850|  3|hand warmer union...|   8|01-12-2010 08:28|     536366|   12|       6|     22633|      1.85|    201012|\n",
            "|        11.1|United Kingdom|  17850|  3|hand warmer red p...|   8|01-12-2010 08:28|     536366|   12|       6|     22632|      1.85|    201012|\n",
            "|       54.08|United Kingdom|  13047|  3|assorted colour b...|   8|01-12-2010 08:34|     536367|   12|      32|     84879|      1.69|    201012|\n",
            "|        12.6|United Kingdom|  13047|  3|poppy's playhouse...|   8|01-12-2010 08:34|     536367|   12|       6|     22745|       2.1|    201012|\n",
            "|        12.6|United Kingdom|  13047|  3|poppy's playhouse...|   8|01-12-2010 08:34|     536367|   12|       6|     22748|       2.1|    201012|\n",
            "|        30.0|United Kingdom|  13047|  3|feltcraft princes...|   8|01-12-2010 08:34|     536367|   12|       8|     22749|      3.75|    201012|\n",
            "|         9.9|United Kingdom|  13047|  3|ivory knitted mug...|   8|01-12-2010 08:34|     536367|   12|       6|     22310|      1.65|    201012|\n",
            "|        25.5|United Kingdom|  13047|  3|box of 6 assorted...|   8|01-12-2010 08:34|     536367|   12|       6|     84969|      4.25|    201012|\n",
            "|       14.85|United Kingdom|  13047|  3|box of vintage ji...|   8|01-12-2010 08:34|     536367|   12|       3|     22623|      4.95|    201012|\n",
            "|        19.9|United Kingdom|  13047|  3|box of vintage al...|   8|01-12-2010 08:34|     536367|   12|       2|     22622|      9.95|    201012|\n",
            "|       17.85|United Kingdom|  13047|  3|home building blo...|   8|01-12-2010 08:34|     536367|   12|       3|     21754|      5.95|    201012|\n",
            "|       17.85|United Kingdom|  13047|  3|love building blo...|   8|01-12-2010 08:34|     536367|   12|       3|     21755|      5.95|    201012|\n",
            "|        31.8|United Kingdom|  13047|  3|recipe box with m...|   8|01-12-2010 08:34|     536367|   12|       4|     21777|      7.95|    201012|\n",
            "+------------+--------------+-------+---+--------------------+----+----------------+-----------+-----+--------+----------+----------+----------+\n",
            "only showing top 20 rows\n",
            "\n"
          ]
        }
      ]
    },
    {
      "cell_type": "markdown",
      "source": [
        "# Exploratory Data Analysis Using Pyspark\n",
        "##Print schema"
      ],
      "metadata": {
        "id": "vDJlh3PWlPOX"
      }
    },
    {
      "cell_type": "code",
      "source": [
        "multiline_df.printSchema()"
      ],
      "metadata": {
        "colab": {
          "base_uri": "https://localhost:8080/"
        },
        "id": "SENI4Xb6eORe",
        "outputId": "9583fd8c-6859-4381-f0d5-715c9710d621"
      },
      "execution_count": 24,
      "outputs": [
        {
          "output_type": "stream",
          "name": "stdout",
          "text": [
            "root\n",
            " |-- amount_spent: double (nullable = true)\n",
            " |-- country: string (nullable = true)\n",
            " |-- cust_id: long (nullable = true)\n",
            " |-- day: long (nullable = true)\n",
            " |-- description: string (nullable = true)\n",
            " |-- hour: long (nullable = true)\n",
            " |-- invoice_date: string (nullable = true)\n",
            " |-- invoice_num: long (nullable = true)\n",
            " |-- month: long (nullable = true)\n",
            " |-- quantity: long (nullable = true)\n",
            " |-- stock_code: string (nullable = true)\n",
            " |-- unit_price: double (nullable = true)\n",
            " |-- year_month: long (nullable = true)\n",
            "\n"
          ]
        }
      ]
    },
    {
      "cell_type": "markdown",
      "source": [
        "##Display records"
      ],
      "metadata": {
        "id": "S-7REHZ9lTdQ"
      }
    },
    {
      "cell_type": "code",
      "source": [
        "multiline_df.show(4,False)"
      ],
      "metadata": {
        "colab": {
          "base_uri": "https://localhost:8080/"
        },
        "id": "ymDQ12TceWvI",
        "outputId": "4c2763c6-0cc5-4fb2-a530-b0a381da44cb"
      },
      "execution_count": 29,
      "outputs": [
        {
          "output_type": "stream",
          "name": "stdout",
          "text": [
            "+------------+--------------+-------+---+-----------------------------------+----+----------------+-----------+-----+--------+----------+----------+----------+\n",
            "|amount_spent|country       |cust_id|day|description                        |hour|invoice_date    |invoice_num|month|quantity|stock_code|unit_price|year_month|\n",
            "+------------+--------------+-------+---+-----------------------------------+----+----------------+-----------+-----+--------+----------+----------+----------+\n",
            "|15.3        |United Kingdom|17850  |3  |white hanging heart t-light holder |8   |01-12-2010 08:26|536365     |12   |6       |85123A    |2.55      |201012    |\n",
            "|20.34       |United Kingdom|17850  |3  |white metal lantern                |8   |01-12-2010 08:26|536365     |12   |6       |71053     |3.39      |201012    |\n",
            "|22.0        |United Kingdom|17850  |3  |cream cupid hearts coat hanger     |8   |01-12-2010 08:26|536365     |12   |8       |84406B    |2.75      |201012    |\n",
            "|20.34       |United Kingdom|17850  |3  |knitted union flag hot water bottle|8   |01-12-2010 08:26|536365     |12   |6       |84029G    |3.39      |201012    |\n",
            "+------------+--------------+-------+---+-----------------------------------+----+----------------+-----------+-----+--------+----------+----------+----------+\n",
            "only showing top 4 rows\n",
            "\n"
          ]
        }
      ]
    },
    {
      "cell_type": "markdown",
      "source": [
        "##Count of records"
      ],
      "metadata": {
        "id": "yekLXeW6lW4a"
      }
    },
    {
      "cell_type": "code",
      "source": [
        "multiline_df.count()"
      ],
      "metadata": {
        "colab": {
          "base_uri": "https://localhost:8080/"
        },
        "id": "uuaQ49_mevio",
        "outputId": "3ffe3e92-9355-40ba-f286-a5bd7bb255c9"
      },
      "execution_count": 31,
      "outputs": [
        {
          "output_type": "execute_result",
          "data": {
            "text/plain": [
              "1027"
            ]
          },
          "metadata": {},
          "execution_count": 31
        }
      ]
    },
    {
      "cell_type": "markdown",
      "source": [
        "##Selecting columns to display"
      ],
      "metadata": {
        "id": "hcfFy6GTlZVU"
      }
    },
    {
      "cell_type": "code",
      "source": [
        "multiline_df.select(\"amount_spent\", \"country\", \"cust_id\").show(5)"
      ],
      "metadata": {
        "colab": {
          "base_uri": "https://localhost:8080/"
        },
        "id": "hh2ikPW1e8O3",
        "outputId": "c833bf82-f2ad-4bae-8861-e74ab2b47c07"
      },
      "execution_count": 35,
      "outputs": [
        {
          "output_type": "stream",
          "name": "stdout",
          "text": [
            "+------------+--------------+-------+\n",
            "|amount_spent|       country|cust_id|\n",
            "+------------+--------------+-------+\n",
            "|        15.3|United Kingdom|  17850|\n",
            "|       20.34|United Kingdom|  17850|\n",
            "|        22.0|United Kingdom|  17850|\n",
            "|       20.34|United Kingdom|  17850|\n",
            "|       20.34|United Kingdom|  17850|\n",
            "+------------+--------------+-------+\n",
            "only showing top 5 rows\n",
            "\n"
          ]
        }
      ]
    },
    {
      "cell_type": "markdown",
      "source": [
        "##Applying filter on data\n",
        "In this we are filtering the data where  \n",
        "\n",
        "*   quant > 8\n",
        "*   amount spent > 20.34\n",
        "*   cust id is not null\n",
        "\n"
      ],
      "metadata": {
        "id": "SldXl2ZYleaK"
      }
    },
    {
      "cell_type": "code",
      "source": [
        "df_filtered = multiline_df.filter(\"quantity > 8 AND amount_spent > 20.34 AND cust_id IS NOT NULL\")\n",
        "df_filtered.select(\"cust_id\", \"amount_spent\", \"cust_id\").show(30, False)"
      ],
      "metadata": {
        "colab": {
          "base_uri": "https://localhost:8080/"
        },
        "id": "kEExk3IGfht1",
        "outputId": "8a602575-5e79-4eec-fd80-500b2c54d890"
      },
      "execution_count": 36,
      "outputs": [
        {
          "output_type": "stream",
          "name": "stdout",
          "text": [
            "+--------+------------+-------+\n",
            "|quantity|amount_spent|cust_id|\n",
            "+--------+------------+-------+\n",
            "|32      |54.08       |13047  |\n",
            "|24      |90.0        |12583  |\n",
            "|24      |90.0        |12583  |\n",
            "|12      |45.0        |12583  |\n",
            "|48      |40.8        |12583  |\n",
            "|24      |30.0        |12583  |\n",
            "|18      |53.1        |12583  |\n",
            "|24      |70.8        |12583  |\n",
            "|24      |46.8        |12583  |\n",
            "|24      |46.8        |12583  |\n",
            "|24      |46.8        |12583  |\n",
            "|24      |39.6        |12583  |\n",
            "|24      |70.8        |12583  |\n",
            "|12      |45.0        |12583  |\n",
            "|36      |23.4        |12583  |\n",
            "|80      |204.0       |13748  |\n",
            "|32      |350.4       |15100  |\n",
            "|48      |165.6       |15291  |\n",
            "|64      |163.2       |15291  |\n",
            "|10      |29.5        |14688  |\n",
            "|12      |45.0        |14688  |\n",
            "|120     |50.4        |14688  |\n",
            "|48      |60.0        |14688  |\n",
            "|96      |36.48       |14688  |\n",
            "|24      |34.8        |17809  |\n",
            "|23      |97.75       |15311  |\n",
            "|24      |30.0        |15311  |\n",
            "|24      |30.0        |15311  |\n",
            "|36      |38.16       |15311  |\n",
            "|10      |67.5        |15311  |\n",
            "+--------+------------+-------+\n",
            "only showing top 30 rows\n",
            "\n"
          ]
        }
      ]
    },
    {
      "cell_type": "markdown",
      "source": [
        "##Applying select on filtered data\n",
        "In this we will filter it based on country where it is united kingdom and fetch only distinct records"
      ],
      "metadata": {
        "id": "5cBWNEwEliji"
      }
    },
    {
      "cell_type": "code",
      "source": [
        "df_filtered.select(\"description\", \"unit_price\", \"cust_id\", \"country\").filter(\"country LIKE '%United Kingdom%'\").distinct().show(20, False)"
      ],
      "metadata": {
        "colab": {
          "base_uri": "https://localhost:8080/"
        },
        "id": "ex9zG43_gNe2",
        "outputId": "4936058c-d466-47ed-fe47-92daccf8a839"
      },
      "execution_count": 38,
      "outputs": [
        {
          "output_type": "stream",
          "name": "stdout",
          "text": [
            "+-----------------------------------+----------+-------+--------------+\n",
            "|description                        |unit_price|cust_id|country       |\n",
            "+-----------------------------------+----------+-------+--------------+\n",
            "|blue new baroque candlestick candle|2.95      |15983  |United Kingdom|\n",
            "|red toadstool led night light      |1.25      |16029  |United Kingdom|\n",
            "|record frame 7\" single size        |2.1       |16210  |United Kingdom|\n",
            "|retrospot heart hot water bottle   |4.25      |17511  |United Kingdom|\n",
            "|hand warmer bird design            |2.1       |13767  |United Kingdom|\n",
            "|paper chain kit vintage christmas  |2.55      |15513  |United Kingdom|\n",
            "|hand warmer union jack             |2.1       |17951  |United Kingdom|\n",
            "|piggy bank retrospot               |2.55      |13758  |United Kingdom|\n",
            "|classical rose small vase          |1.25      |13694  |United Kingdom|\n",
            "|ceramic strawberry design mug      |1.25      |13694  |United Kingdom|\n",
            "|assorted colour bird ornament      |1.69      |13047  |United Kingdom|\n",
            "|set of 3 black flying ducks        |4.65      |17924  |United Kingdom|\n",
            "|clothes pegs retrospot pack 24     |1.25      |13408  |United Kingdom|\n",
            "|rocking horse red christmas        |0.72      |16210  |United Kingdom|\n",
            "|christmas gingham star             |0.72      |16210  |United Kingdom|\n",
            "|paper chain kit 50's christmas     |2.55      |15513  |United Kingdom|\n",
            "|hanging heart zinc t-light holder  |0.64      |17511  |United Kingdom|\n",
            "|scottie dog hot water bottle       |4.95      |13448  |United Kingdom|\n",
            "|large popcorn holder               |1.45      |17511  |United Kingdom|\n",
            "|hand warmer scotty dog design      |2.1       |13767  |United Kingdom|\n",
            "+-----------------------------------+----------+-------+--------------+\n",
            "only showing top 20 rows\n",
            "\n"
          ]
        }
      ]
    },
    {
      "cell_type": "markdown",
      "source": [
        "##Setting up pyspark SQL functions\n",
        "This we will do to find out the max unit price out of the filtered dataframe"
      ],
      "metadata": {
        "id": "j5NmFzF0mCqQ"
      }
    },
    {
      "cell_type": "code",
      "source": [
        "from pyspark.sql.functions import max\n",
        "# Find the costliest unit price\n",
        "maxValue = df_filtered.agg(max(\"unit_price\")).collect()[0][0]\n",
        "print(\"maxValue: \",maxValue)"
      ],
      "metadata": {
        "colab": {
          "base_uri": "https://localhost:8080/"
        },
        "id": "FVT8_hVchDpx",
        "outputId": "060682d6-7fab-4f9a-a81e-0a2d3bec4b84"
      },
      "execution_count": 40,
      "outputs": [
        {
          "output_type": "stream",
          "name": "stdout",
          "text": [
            "maxValue:  10.95\n"
          ]
        }
      ]
    },
    {
      "cell_type": "markdown",
      "source": [
        "##Selecting the fields required\n",
        "To display for the filtered records where the unit price is equal to max value"
      ],
      "metadata": {
        "id": "8NWudE4RmbZ6"
      }
    },
    {
      "cell_type": "code",
      "source": [
        "df_filtered.select(\"description\", \"unit_price\", \"cust_id\", \"country\").filter(multiline_df.unit_price == maxValue).distinct().show(5, False)"
      ],
      "metadata": {
        "colab": {
          "base_uri": "https://localhost:8080/"
        },
        "id": "NtqL_J56iQKv",
        "outputId": "224af202-a1b6-4e2d-8819-26a95a8cd1f0"
      },
      "execution_count": 42,
      "outputs": [
        {
          "output_type": "stream",
          "name": "stdout",
          "text": [
            "+--------------------------+----------+-------+--------------+\n",
            "|description               |unit_price|cust_id|country       |\n",
            "+--------------------------+----------+-------+--------------+\n",
            "|regency cakestand 3 tier  |10.95     |16210  |United Kingdom|\n",
            "|victorian sewing box large|10.95     |15100  |United Kingdom|\n",
            "+--------------------------+----------+-------+--------------+\n",
            "\n"
          ]
        }
      ]
    },
    {
      "cell_type": "code",
      "source": [
        "from pyspark.sql import SparkSession\n",
        "import matplotlib.pyplot as plt\n",
        "\n",
        "# Initialize a Spark session\n",
        "spark = SparkSession.builder.appName(\"PySparkPlot\").getOrCreate()\n",
        "\n",
        "# Load data from a JSON file into a PySpark DataFrame\n",
        "json_file_path = spark.read.option(\"multiline\",\"true\") \\\n",
        "      .json(\"/tmp/E_comm.json\") # Replace with your JSON file path\n",
        "df=json_file_path\n",
        "\n",
        "# Convert the DataFrame to a Pandas DataFrame for plotting\n",
        "pdf = df.select(\"day\", \"amount_spent\").toPandas()\n",
        "\n",
        "# Group data by day and calculate the total amount spent per day\n",
        "grouped_pdf = pdf.groupby(\"day\")[\"amount_spent\"].sum().reset_index()\n",
        "\n",
        "# Plot the data using Matplotlib\n",
        "plt.figure(figsize=(8, 6))\n",
        "plt.bar(grouped_pdf[\"day\"], grouped_pdf[\"amount_spent\"])\n",
        "plt.title(\"Total Amount Spent per Day\")\n",
        "plt.xlabel(\"Day\")\n",
        "plt.ylabel(\"Total Amount Spent\")\n",
        "plt.grid(axis='y')\n",
        "plt.show()\n",
        "\n",
        "# Stop the Spark session\n",
        "spark.stop()"
      ],
      "metadata": {
        "colab": {
          "base_uri": "https://localhost:8080/",
          "height": 564
        },
        "id": "Fqi_au5gm-nm",
        "outputId": "79303ad0-48a3-4d7a-ed52-ef37ac02957d"
      },
      "execution_count": 49,
      "outputs": [
        {
          "output_type": "display_data",
          "data": {
            "text/plain": [
              "<Figure size 800x600 with 1 Axes>"
            ],
            "image/png": "[encoded data removed]"
          },
          "metadata": {}
        }
      ]
    }
  ]
}